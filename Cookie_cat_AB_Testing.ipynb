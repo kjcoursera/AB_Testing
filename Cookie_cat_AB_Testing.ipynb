{
  "nbformat": 4,
  "nbformat_minor": 0,
  "metadata": {
    "colab": {
      "name": "Cookie_cat_AB_Testing.ipynb",
      "provenance": [],
      "authorship_tag": "ABX9TyNms6gBZDAyWnqlqCWwKt0U",
      "include_colab_link": true
    },
    "kernelspec": {
      "name": "python3",
      "display_name": "Python 3"
    }
  },
  "cells": [
    {
      "cell_type": "markdown",
      "metadata": {
        "id": "view-in-github",
        "colab_type": "text"
      },
      "source": [
        "<a href=\"https://colab.research.google.com/github/kjcoursera/AB_Testing/blob/main/Cookie_cat_AB_Testing.ipynb\" target=\"_parent\"><img src=\"https://colab.research.google.com/assets/colab-badge.svg\" alt=\"Open In Colab\"/></a>"
      ]
    },
    {
      "cell_type": "code",
      "metadata": {
        "id": "W4LEdZgw5FLP"
      },
      "source": [
        "import numpy as np\n",
        "import pandas as pd\n",
        "import seaborn as sns\n",
        "import matplotlib.pyplot as plt\n",
        "import os\n",
        "\n",
        "# Hypothesis Testing\n",
        "from scipy.stats import shapiro\n",
        "import scipy.stats as stats"
      ],
      "execution_count": null,
      "outputs": []
    },
    {
      "cell_type": "code",
      "metadata": {
        "colab": {
          "base_uri": "https://localhost:8080/"
        },
        "id": "i0_IREgx5p6R",
        "outputId": "44ce1859-df2f-4003-a507-b07b42034da7"
      },
      "source": [
        "from google.colab import drive\n",
        "drive.mount('/content/gdrive')\n"
      ],
      "execution_count": null,
      "outputs": [
        {
          "output_type": "stream",
          "text": [
            "Drive already mounted at /content/gdrive; to attempt to forcibly remount, call drive.mount(\"/content/gdrive\", force_remount=True).\n"
          ],
          "name": "stdout"
        }
      ]
    },
    {
      "cell_type": "code",
      "metadata": {
        "colab": {
          "base_uri": "https://localhost:8080/"
        },
        "id": "prs1CquK69ma",
        "outputId": "9562c423-102a-4626-8c13-0ad5ff6f8107"
      },
      "source": [
        "print(os.listdir('./gdrive/MyDrive/Datasets/AB_Testing'))\n"
      ],
      "execution_count": null,
      "outputs": [
        {
          "output_type": "stream",
          "text": [
            "['cookie_cats.csv']\n"
          ],
          "name": "stdout"
        }
      ]
    },
    {
      "cell_type": "code",
      "metadata": {
        "id": "X25BrZKz7l_1"
      },
      "source": [
        "path = './gdrive/MyDrive/Datasets/AB_Testing/cookie_cats.csv'"
      ],
      "execution_count": null,
      "outputs": []
    },
    {
      "cell_type": "code",
      "metadata": {
        "colab": {
          "base_uri": "https://localhost:8080/"
        },
        "id": "gAgE_zbV569V",
        "outputId": "6bf31139-9832-4e5b-b69b-e4acfc9c752c"
      },
      "source": [
        "df = pd.read_csv(path)\n",
        "print(len(df))"
      ],
      "execution_count": null,
      "outputs": [
        {
          "output_type": "stream",
          "text": [
            "90189\n"
          ],
          "name": "stdout"
        }
      ]
    },
    {
      "cell_type": "code",
      "metadata": {
        "colab": {
          "base_uri": "https://localhost:8080/"
        },
        "id": "Oiy0jkGF57A3",
        "outputId": "9f486123-54f0-4d2b-d760-e905f9849993"
      },
      "source": [
        "print(\"# DIMENSIONS -------------------------\")\n",
        "print('Observation: ', df.shape[0], \"Columns:\", df.shape[1])"
      ],
      "execution_count": null,
      "outputs": [
        {
          "output_type": "stream",
          "text": [
            "# DIMENSIONS -------------------------\n",
            "Observation:  90189 Columns: 5\n"
          ],
          "name": "stdout"
        }
      ]
    },
    {
      "cell_type": "code",
      "metadata": {
        "colab": {
          "base_uri": "https://localhost:8080/"
        },
        "id": "lWDIfFFn57FC",
        "outputId": "2a66cabd-f40e-4e01-8d09-f5b1e8aecf74"
      },
      "source": [
        "print(\"# DTYPES -------------------------\")\n",
        "print(\"No of Object variables: \", len(df.select_dtypes(\"object\").columns))\n",
        "print(\"No of Integer variables: \", len(df.select_dtypes(\"integer\").columns))\n",
        "print(\"No of Float variables: \", len(df.select_dtypes(\"float\").columns))\n",
        "print(\"No of Boolean variables: \", len(df.select_dtypes(\"bool\").columns))"
      ],
      "execution_count": null,
      "outputs": [
        {
          "output_type": "stream",
          "text": [
            "# DTYPES -------------------------\n",
            "No of Object variables:  1\n",
            "No of Integer variables:  2\n",
            "No of Float variables:  0\n",
            "No of Boolean variables:  2\n"
          ],
          "name": "stdout"
        }
      ]
    },
    {
      "cell_type": "code",
      "metadata": {
        "colab": {
          "base_uri": "https://localhost:8080/"
        },
        "id": "wEVdCEcf57Iy",
        "outputId": "65b2d5b5-cf4d-4780-dccc-58acecd712fe"
      },
      "source": [
        "print(\"# MISSING VALUE -------------------------\")\n",
        "print(\"Are there any missing values? \\n \", np.where(df.isnull().values.any() == False,\n",
        "                                                    \"No missing value!\", \"Data includes missing value!\"),\"\\n\")"
      ],
      "execution_count": null,
      "outputs": [
        {
          "output_type": "stream",
          "text": [
            "# MISSING VALUE -------------------------\n",
            "Are there any missing values? \n",
            "  No missing value! \n",
            "\n"
          ],
          "name": "stdout"
        }
      ]
    },
    {
      "cell_type": "code",
      "metadata": {
        "colab": {
          "base_uri": "https://localhost:8080/"
        },
        "id": "cZWM4tHl57MV",
        "outputId": "5dd5ca7e-9455-4748-81f8-24ecad21898b"
      },
      "source": [
        "print(df.info())\n",
        "print(df.head(10))"
      ],
      "execution_count": null,
      "outputs": [
        {
          "output_type": "stream",
          "text": [
            "<class 'pandas.core.frame.DataFrame'>\n",
            "RangeIndex: 90189 entries, 0 to 90188\n",
            "Data columns (total 5 columns):\n",
            " #   Column          Non-Null Count  Dtype \n",
            "---  ------          --------------  ----- \n",
            " 0   userid          90189 non-null  int64 \n",
            " 1   version         90189 non-null  object\n",
            " 2   sum_gamerounds  90189 non-null  int64 \n",
            " 3   retention_1     90189 non-null  bool  \n",
            " 4   retention_7     90189 non-null  bool  \n",
            "dtypes: bool(2), int64(2), object(1)\n",
            "memory usage: 2.2+ MB\n",
            "None\n",
            "   userid  version  sum_gamerounds  retention_1  retention_7\n",
            "0     116  gate_30               3        False        False\n",
            "1     337  gate_30              38         True        False\n",
            "2     377  gate_40             165         True        False\n",
            "3     483  gate_40               1        False        False\n",
            "4     488  gate_40             179         True         True\n",
            "5     540  gate_40             187         True         True\n",
            "6    1066  gate_30               0        False        False\n",
            "7    1444  gate_40               2        False        False\n",
            "8    1574  gate_40             108         True         True\n",
            "9    1587  gate_40             153         True        False\n"
          ],
          "name": "stdout"
        }
      ]
    },
    {
      "cell_type": "code",
      "metadata": {
        "colab": {
          "base_uri": "https://localhost:8080/"
        },
        "id": "iJAN4BEP57QG",
        "outputId": "2ac1715d-42aa-4748-c366-b7e33500e12d"
      },
      "source": [
        "print(\"unique visitors: \" ,df.userid.nunique() == df.shape[0])"
      ],
      "execution_count": null,
      "outputs": [
        {
          "output_type": "stream",
          "text": [
            "unique visitors:  True\n"
          ],
          "name": "stdout"
        }
      ]
    },
    {
      "cell_type": "code",
      "metadata": {
        "colab": {
          "base_uri": "https://localhost:8080/"
        },
        "id": "DURsInU_57Te",
        "outputId": "b3dda7c6-11de-4f4d-e30b-43b15b08702a"
      },
      "source": [
        "print(df.describe([0.01, 0.05, 0.10, 0.20, 0.80, 0.90, 0.95, 0.99])[[\"sum_gamerounds\"]].T)"
      ],
      "execution_count": null,
      "outputs": [
        {
          "output_type": "stream",
          "text": [
            "                  count       mean         std  ...    95%    99%      max\n",
            "sum_gamerounds  90189.0  51.872457  195.050858  ...  221.0  493.0  49854.0\n",
            "\n",
            "[1 rows x 14 columns]\n"
          ],
          "name": "stdout"
        }
      ]
    },
    {
      "cell_type": "code",
      "metadata": {
        "colab": {
          "base_uri": "https://localhost:8080/"
        },
        "id": "Nj68hyss57XY",
        "outputId": "32bd0ce6-3ae7-44c8-f90e-937aa42795f5"
      },
      "source": [
        "# A/B Groups & Target Summary Stats\n",
        "\n",
        "print(df.groupby(\"version\").sum_gamerounds.agg([\"count\", \"median\", \"mean\", \"std\", \"max\"]))"
      ],
      "execution_count": null,
      "outputs": [
        {
          "output_type": "stream",
          "text": [
            "         count  median       mean         std    max\n",
            "version                                             \n",
            "gate_30  44700      17  52.456264  256.716423  49854\n",
            "gate_40  45489      16  51.298776  103.294416   2640\n"
          ],
          "name": "stdout"
        }
      ]
    },
    {
      "cell_type": "code",
      "metadata": {
        "colab": {
          "base_uri": "https://localhost:8080/",
          "height": 388
        },
        "id": "U3NikiO-57a0",
        "outputId": "02af2587-e6eb-4e70-dee3-bd4cb80a689c"
      },
      "source": [
        "fig, axes = plt.subplots(1, 3, figsize = (18,5))\n",
        "df[(df.version == \"gate_30\")].hist(\"sum_gamerounds\", ax = axes[0],color = \"steelblue\", bins=10)\n",
        "df[(df.version == \"gate_40\")].hist(\"sum_gamerounds\", ax = axes[1], color = \"steelblue\", bins=10)\n",
        "sns.boxplot(x = df.version, y = df.sum_gamerounds, ax = axes[2])\n",
        "plt.suptitle(\"Before Removing The Extreme Value\", fontsize = 20)\n",
        "axes[0].set_title(\"Distribution of Gate 30 (A)\", fontsize = 15)\n",
        "axes[1].set_title(\"Distribution of Gate 40 (B)\", fontsize = 15)\n",
        "axes[2].set_title(\"Distribution of Two Groups\", fontsize = 15)"
      ],
      "execution_count": null,
      "outputs": [
        {
          "output_type": "execute_result",
          "data": {
            "text/plain": [
              "Text(0.5, 1.0, 'Distribution of Two Groups')"
            ]
          },
          "metadata": {
            "tags": []
          },
          "execution_count": 29
        },
        {
          "output_type": "display_data",
          "data": {
            "image/png": "[encoded data removed]",
            "text/plain": [
              "<Figure size 1296x360 with 3 Axes>"
            ]
          },
          "metadata": {
            "tags": [],
            "needs_background": "light"
          }
        }
      ]
    },
    {
      "cell_type": "code",
      "metadata": {
        "colab": {
          "base_uri": "https://localhost:8080/",
          "height": 370
        },
        "id": "g6l3a4iZ57ef",
        "outputId": "cb432ae1-6bb8-4c26-d527-78123d493f80"
      },
      "source": [
        "df[df.version == \"gate_30\"].reset_index().set_index(\"index\").sum_gamerounds.plot(legend = True, label = \"Gate 30\", figsize = (20,5))\n",
        "df[df.version == \"gate_40\"].reset_index().set_index(\"index\").sum_gamerounds.plot(legend = True, label = \"Gate 40\")\n",
        "plt.suptitle(\"Before Removing The Extreme Value\", fontsize = 20);"
      ],
      "execution_count": null,
      "outputs": [
        {
          "output_type": "display_data",
          "data": {
            "image/png": "[encoded data removed]",
            "text/plain": [
              "<Figure size 1440x360 with 1 Axes>"
            ]
          },
          "metadata": {
            "tags": [],
            "needs_background": "light"
          }
        }
      ]
    },
    {
      "cell_type": "code",
      "metadata": {
        "id": "jl8dPnf7-Ajf"
      },
      "source": [
        "df = df[df.sum_gamerounds < df.sum_gamerounds.max()]"
      ],
      "execution_count": null,
      "outputs": []
    },
    {
      "cell_type": "code",
      "metadata": {
        "colab": {
          "base_uri": "https://localhost:8080/"
        },
        "id": "wl3yFJ9P-Am1",
        "outputId": "bd507c44-f399-47e3-8148-0878d20e4822"
      },
      "source": [
        "# Summary Stats: sum_gamerounds\n",
        "print(df.describe([0.01, 0.05, 0.10, 0.20, 0.80, 0.90, 0.95, 0.99])[[\"sum_gamerounds\"]].T)"
      ],
      "execution_count": null,
      "outputs": [
        {
          "output_type": "stream",
          "text": [
            "                  count       mean         std  ...    95%    99%     max\n",
            "sum_gamerounds  90188.0  51.320253  102.682719  ...  221.0  493.0  2961.0\n",
            "\n",
            "[1 rows x 14 columns]\n"
          ],
          "name": "stdout"
        }
      ]
    },
    {
      "cell_type": "code",
      "metadata": {
        "colab": {
          "base_uri": "https://localhost:8080/",
          "height": 388
        },
        "id": "ClzPSaJ3-Aqi",
        "outputId": "7ce539f3-93f6-4bd0-e60c-f9a3c27d1ff5"
      },
      "source": [
        "fig, axes = plt.subplots(1, 3, figsize = (18,5))\n",
        "df[(df.version == \"gate_30\")].hist(\"sum_gamerounds\", ax = axes[0],color = \"steelblue\", bins=10)\n",
        "df[(df.version == \"gate_40\")].hist(\"sum_gamerounds\", ax = axes[1], color = \"steelblue\", bins=10)\n",
        "sns.boxplot(x = df.version, y = df.sum_gamerounds, ax = axes[2])\n",
        "plt.suptitle(\"After Removing The Extreme Value\", fontsize = 20)\n",
        "axes[0].set_title(\"Distribution of Gate 30 (A)\", fontsize = 15)\n",
        "axes[1].set_title(\"Distribution of Gate 40 (B)\", fontsize = 15)\n",
        "axes[2].set_title(\"Distribution of Two Groups\", fontsize = 15)"
      ],
      "execution_count": null,
      "outputs": [
        {
          "output_type": "execute_result",
          "data": {
            "text/plain": [
              "Text(0.5, 1.0, 'Distribution of Two Groups')"
            ]
          },
          "metadata": {
            "tags": []
          },
          "execution_count": 33
        },
        {
          "output_type": "display_data",
          "data": {
            "image/png": "[encoded data removed]",
            "text/plain": [
              "<Figure size 1296x360 with 3 Axes>"
            ]
          },
          "metadata": {
            "tags": [],
            "needs_background": "light"
          }
        }
      ]
    },
    {
      "cell_type": "code",
      "metadata": {
        "colab": {
          "base_uri": "https://localhost:8080/",
          "height": 536
        },
        "id": "9Qtqyr9I-AuN",
        "outputId": "44f61936-07ad-48e1-f3bb-875efddaef32"
      },
      "source": [
        "fig, axes = plt.subplots(2, 1, figsize = (25,10))\n",
        "df.groupby(\"sum_gamerounds\").userid.count().plot(ax = axes[0])\n",
        "df.groupby(\"sum_gamerounds\").userid.count()[:100].plot(ax = axes[1])\n",
        "plt.suptitle(\"The number of users in the game rounds played\", fontsize = 25)\n",
        "axes[0].set_title(\"How many users are there all game rounds?\", fontsize = 15)\n",
        "axes[1].set_title(\"How many users are there first 200 game rounds?\", fontsize = 15)\n",
        "plt.tight_layout(pad=5);"
      ],
      "execution_count": null,
      "outputs": [
        {
          "output_type": "display_data",
          "data": {
            "image/png": "[encoded data removed]",
            "text/plain": [
              "<Figure size 1800x720 with 2 Axes>"
            ]
          },
          "metadata": {
            "tags": [],
            "needs_background": "light"
          }
        }
      ]
    },
    {
      "cell_type": "code",
      "metadata": {
        "colab": {
          "base_uri": "https://localhost:8080/"
        },
        "id": "1MShIp2C-Axx",
        "outputId": "50f94d31-bc38-4514-bfcd-ab217786f88e"
      },
      "source": [
        "print(df.groupby(\"sum_gamerounds\").userid.count().reset_index().head(20))"
      ],
      "execution_count": null,
      "outputs": [
        {
          "output_type": "stream",
          "text": [
            "    sum_gamerounds  userid\n",
            "0                0    3994\n",
            "1                1    5538\n",
            "2                2    4606\n",
            "3                3    3958\n",
            "4                4    3629\n",
            "5                5    2992\n",
            "6                6    2861\n",
            "7                7    2379\n",
            "8                8    2267\n",
            "9                9    2013\n",
            "10              10    1752\n",
            "11              11    1654\n",
            "12              12    1570\n",
            "13              13    1594\n",
            "14              14    1519\n",
            "15              15    1446\n",
            "16              16    1342\n",
            "17              17    1269\n",
            "18              18    1228\n",
            "19              19    1158\n"
          ],
          "name": "stdout"
        }
      ]
    },
    {
      "cell_type": "code",
      "metadata": {
        "colab": {
          "base_uri": "https://localhost:8080/"
        },
        "id": "wpTkhmaC-A1P",
        "outputId": "69dd2726-5a75-4849-8c69-3ec910caa1bd"
      },
      "source": [
        "# How many users reached gate 30 & gate 40 levels?\n",
        "print(df.groupby(\"sum_gamerounds\").userid.count().loc[[30,40]])"
      ],
      "execution_count": null,
      "outputs": [
        {
          "output_type": "stream",
          "text": [
            "sum_gamerounds\n",
            "30    642\n",
            "40    505\n",
            "Name: userid, dtype: int64\n"
          ],
          "name": "stdout"
        }
      ]
    },
    {
      "cell_type": "code",
      "metadata": {
        "colab": {
          "base_uri": "https://localhost:8080/"
        },
        "id": "0jZsR9hT-A42",
        "outputId": "c98e95a4-8ab5-4278-c480-5370f0e029b0"
      },
      "source": [
        "# A/B Groups & Target Summary Stats\n",
        "print(df.groupby(\"version\").sum_gamerounds.agg([\"count\", \"median\", \"mean\", \"std\", \"max\"]))"
      ],
      "execution_count": null,
      "outputs": [
        {
          "output_type": "stream",
          "text": [
            "         count  median       mean         std   max\n",
            "version                                            \n",
            "gate_30  44699      17  51.342111  102.057598  2961\n",
            "gate_40  45489      16  51.298776  103.294416  2640\n"
          ],
          "name": "stdout"
        }
      ]
    },
    {
      "cell_type": "code",
      "metadata": {
        "colab": {
          "base_uri": "https://localhost:8080/",
          "height": 112
        },
        "id": "dvj9YAvq-A8U",
        "outputId": "35c6f865-bfa7-47a9-b4f6-535343d823cf"
      },
      "source": [
        "# Retention Problem\n",
        "pd.DataFrame({\"RET1_COUNT\": df[\"retention_1\"].value_counts(),\n",
        "              \"RET7_COUNT\": df[\"retention_7\"].value_counts(),\n",
        "              \"RET1_RATIO\": df[\"retention_1\"].value_counts() / len(df),\n",
        "              \"RET7_RATIO\": df[\"retention_7\"].value_counts() / len(df)})\n",
        "\n",
        " # 55 percent of the players didn't play the game 1 day after insalling\n",
        "   # 81 percent of the players didn't play the game 7 day after insalling\n"
      ],
      "execution_count": null,
      "outputs": [
        {
          "output_type": "execute_result",
          "data": {
            "text/html": [
              "<div>\n",
              "<style scoped>\n",
              "    .dataframe tbody tr th:only-of-type {\n",
              "        vertical-align: middle;\n",
              "    }\n",
              "\n",
              "    .dataframe tbody tr th {\n",
              "        vertical-align: top;\n",
              "    }\n",
              "\n",
              "    .dataframe thead th {\n",
              "        text-align: right;\n",
              "    }\n",
              "</style>\n",
              "<table border=\"1\" class=\"dataframe\">\n",
              "  <thead>\n",
              "    <tr style=\"text-align: right;\">\n",
              "      <th></th>\n",
              "      <th>RET1_COUNT</th>\n",
              "      <th>RET7_COUNT</th>\n",
              "      <th>RET1_RATIO</th>\n",
              "      <th>RET7_RATIO</th>\n",
              "    </tr>\n",
              "  </thead>\n",
              "  <tbody>\n",
              "    <tr>\n",
              "      <th>False</th>\n",
              "      <td>50035</td>\n",
              "      <td>73408</td>\n",
              "      <td>0.554786</td>\n",
              "      <td>0.813944</td>\n",
              "    </tr>\n",
              "    <tr>\n",
              "      <th>True</th>\n",
              "      <td>40153</td>\n",
              "      <td>16780</td>\n",
              "      <td>0.445214</td>\n",
              "      <td>0.186056</td>\n",
              "    </tr>\n",
              "  </tbody>\n",
              "</table>\n",
              "</div>"
            ],
            "text/plain": [
              "       RET1_COUNT  RET7_COUNT  RET1_RATIO  RET7_RATIO\n",
              "False       50035       73408    0.554786    0.813944\n",
              "True        40153       16780    0.445214    0.186056"
            ]
          },
          "metadata": {
            "tags": []
          },
          "execution_count": 41
        }
      ]
    },
    {
      "cell_type": "code",
      "metadata": {
        "colab": {
          "base_uri": "https://localhost:8080/"
        },
        "id": "pQLgBQPB-1eS",
        "outputId": "dff67d0c-ab48-44b5-d2cc-1376f408cb47"
      },
      "source": [
        "print(df.groupby([\"version\", \"retention_1\"]).sum_gamerounds.agg([\"count\", \"median\", \"mean\", \"std\", \"max\"]))"
      ],
      "execution_count": null,
      "outputs": [
        {
          "output_type": "stream",
          "text": [
            "                     count  median       mean         std   max\n",
            "version retention_1                                            \n",
            "gate_30 False        24665       6  16.359092   36.528426  1072\n",
            "        True         20034      48  94.411700  135.037697  2961\n",
            "gate_40 False        25370       6  16.340402   35.925756  1241\n",
            "        True         20119      49  95.381182  137.887256  2640\n"
          ],
          "name": "stdout"
        }
      ]
    },
    {
      "cell_type": "code",
      "metadata": {
        "colab": {
          "base_uri": "https://localhost:8080/"
        },
        "id": "THuRyvX0-1kF",
        "outputId": "0c70972f-bc07-4b98-c948-40a9e8af7465"
      },
      "source": [
        "print(df.groupby([\"version\", \"retention_7\"]).sum_gamerounds.agg([\"count\", \"median\", \"mean\", \"std\", \"max\"]))"
      ],
      "execution_count": null,
      "outputs": [
        {
          "output_type": "stream",
          "text": [
            "                     count  median        mean         std   max\n",
            "version retention_7                                             \n",
            "gate_30 False        36198      11   25.796508   43.316158   981\n",
            "        True          8501     105  160.117516  179.358560  2961\n",
            "gate_40 False        37210      11   25.856356   44.406112  2640\n",
            "        True          8279     111  165.649837  183.792499  2294\n"
          ],
          "name": "stdout"
        }
      ]
    },
    {
      "cell_type": "code",
      "metadata": {
        "colab": {
          "base_uri": "https://localhost:8080/",
          "height": 206
        },
        "id": "jSVW7NdC-1oQ",
        "outputId": "959d013e-b44d-49ca-85ea-73b1f4e1af72"
      },
      "source": [
        "df[\"Retention\"] = np.where((df.retention_1 == True) & (df.retention_7 == True), 1,0)\n",
        "df.groupby([\"version\", \"Retention\"])[\"sum_gamerounds\"].agg([\"count\", \"median\", \"mean\", \"std\", \"max\"])"
      ],
      "execution_count": null,
      "outputs": [
        {
          "output_type": "execute_result",
          "data": {
            "text/html": [
              "<div>\n",
              "<style scoped>\n",
              "    .dataframe tbody tr th:only-of-type {\n",
              "        vertical-align: middle;\n",
              "    }\n",
              "\n",
              "    .dataframe tbody tr th {\n",
              "        vertical-align: top;\n",
              "    }\n",
              "\n",
              "    .dataframe thead th {\n",
              "        text-align: right;\n",
              "    }\n",
              "</style>\n",
              "<table border=\"1\" class=\"dataframe\">\n",
              "  <thead>\n",
              "    <tr style=\"text-align: right;\">\n",
              "      <th></th>\n",
              "      <th></th>\n",
              "      <th>count</th>\n",
              "      <th>median</th>\n",
              "      <th>mean</th>\n",
              "      <th>std</th>\n",
              "      <th>max</th>\n",
              "    </tr>\n",
              "    <tr>\n",
              "      <th>version</th>\n",
              "      <th>Retention</th>\n",
              "      <th></th>\n",
              "      <th></th>\n",
              "      <th></th>\n",
              "      <th></th>\n",
              "      <th></th>\n",
              "    </tr>\n",
              "  </thead>\n",
              "  <tbody>\n",
              "    <tr>\n",
              "      <th rowspan=\"2\" valign=\"top\">gate_30</th>\n",
              "      <th>0</th>\n",
              "      <td>38023</td>\n",
              "      <td>12</td>\n",
              "      <td>28.070273</td>\n",
              "      <td>48.017452</td>\n",
              "      <td>1072</td>\n",
              "    </tr>\n",
              "    <tr>\n",
              "      <th>1</th>\n",
              "      <td>6676</td>\n",
              "      <td>127</td>\n",
              "      <td>183.886309</td>\n",
              "      <td>189.626390</td>\n",
              "      <td>2961</td>\n",
              "    </tr>\n",
              "    <tr>\n",
              "      <th rowspan=\"2\" valign=\"top\">gate_40</th>\n",
              "      <th>0</th>\n",
              "      <td>38983</td>\n",
              "      <td>12</td>\n",
              "      <td>28.103353</td>\n",
              "      <td>48.927850</td>\n",
              "      <td>2640</td>\n",
              "    </tr>\n",
              "    <tr>\n",
              "      <th>1</th>\n",
              "      <td>6506</td>\n",
              "      <td>133</td>\n",
              "      <td>190.282355</td>\n",
              "      <td>194.220077</td>\n",
              "      <td>2294</td>\n",
              "    </tr>\n",
              "  </tbody>\n",
              "</table>\n",
              "</div>"
            ],
            "text/plain": [
              "                   count  median        mean         std   max\n",
              "version Retention                                             \n",
              "gate_30 0          38023      12   28.070273   48.017452  1072\n",
              "        1           6676     127  183.886309  189.626390  2961\n",
              "gate_40 0          38983      12   28.103353   48.927850  2640\n",
              "        1           6506     133  190.282355  194.220077  2294"
            ]
          },
          "metadata": {
            "tags": []
          },
          "execution_count": 45
        }
      ]
    },
    {
      "cell_type": "code",
      "metadata": {
        "colab": {
          "base_uri": "https://localhost:8080/",
          "height": 300
        },
        "id": "6JDVKgbR-1r-",
        "outputId": "213d7b24-925b-4ee8-fa6f-a6ca01ff3974"
      },
      "source": [
        "df[\"NewRetention\"] = list(map(lambda x,y: str(x)+\"-\"+str(y), df.retention_1, df.retention_7))\n",
        "df.groupby([\"version\", \"NewRetention\"]).sum_gamerounds.agg([\"count\", \"median\", \"mean\", \"std\", \"max\"]).reset_index()"
      ],
      "execution_count": null,
      "outputs": [
        {
          "output_type": "execute_result",
          "data": {
            "text/html": [
              "<div>\n",
              "<style scoped>\n",
              "    .dataframe tbody tr th:only-of-type {\n",
              "        vertical-align: middle;\n",
              "    }\n",
              "\n",
              "    .dataframe tbody tr th {\n",
              "        vertical-align: top;\n",
              "    }\n",
              "\n",
              "    .dataframe thead th {\n",
              "        text-align: right;\n",
              "    }\n",
              "</style>\n",
              "<table border=\"1\" class=\"dataframe\">\n",
              "  <thead>\n",
              "    <tr style=\"text-align: right;\">\n",
              "      <th></th>\n",
              "      <th>version</th>\n",
              "      <th>NewRetention</th>\n",
              "      <th>count</th>\n",
              "      <th>median</th>\n",
              "      <th>mean</th>\n",
              "      <th>std</th>\n",
              "      <th>max</th>\n",
              "    </tr>\n",
              "  </thead>\n",
              "  <tbody>\n",
              "    <tr>\n",
              "      <th>0</th>\n",
              "      <td>gate_30</td>\n",
              "      <td>False-False</td>\n",
              "      <td>22840</td>\n",
              "      <td>6</td>\n",
              "      <td>11.819746</td>\n",
              "      <td>21.642643</td>\n",
              "      <td>981</td>\n",
              "    </tr>\n",
              "    <tr>\n",
              "      <th>1</th>\n",
              "      <td>gate_30</td>\n",
              "      <td>False-True</td>\n",
              "      <td>1825</td>\n",
              "      <td>43</td>\n",
              "      <td>73.169315</td>\n",
              "      <td>93.222330</td>\n",
              "      <td>1072</td>\n",
              "    </tr>\n",
              "    <tr>\n",
              "      <th>2</th>\n",
              "      <td>gate_30</td>\n",
              "      <td>True-False</td>\n",
              "      <td>13358</td>\n",
              "      <td>33</td>\n",
              "      <td>49.694490</td>\n",
              "      <td>58.125396</td>\n",
              "      <td>918</td>\n",
              "    </tr>\n",
              "    <tr>\n",
              "      <th>3</th>\n",
              "      <td>gate_30</td>\n",
              "      <td>True-True</td>\n",
              "      <td>6676</td>\n",
              "      <td>127</td>\n",
              "      <td>183.886309</td>\n",
              "      <td>189.626390</td>\n",
              "      <td>2961</td>\n",
              "    </tr>\n",
              "    <tr>\n",
              "      <th>4</th>\n",
              "      <td>gate_40</td>\n",
              "      <td>False-False</td>\n",
              "      <td>23597</td>\n",
              "      <td>6</td>\n",
              "      <td>11.913294</td>\n",
              "      <td>20.901020</td>\n",
              "      <td>547</td>\n",
              "    </tr>\n",
              "    <tr>\n",
              "      <th>5</th>\n",
              "      <td>gate_40</td>\n",
              "      <td>False-True</td>\n",
              "      <td>1773</td>\n",
              "      <td>47</td>\n",
              "      <td>75.261139</td>\n",
              "      <td>94.478048</td>\n",
              "      <td>1241</td>\n",
              "    </tr>\n",
              "    <tr>\n",
              "      <th>6</th>\n",
              "      <td>gate_40</td>\n",
              "      <td>True-False</td>\n",
              "      <td>13613</td>\n",
              "      <td>32</td>\n",
              "      <td>50.025490</td>\n",
              "      <td>60.924587</td>\n",
              "      <td>2640</td>\n",
              "    </tr>\n",
              "    <tr>\n",
              "      <th>7</th>\n",
              "      <td>gate_40</td>\n",
              "      <td>True-True</td>\n",
              "      <td>6506</td>\n",
              "      <td>133</td>\n",
              "      <td>190.282355</td>\n",
              "      <td>194.220077</td>\n",
              "      <td>2294</td>\n",
              "    </tr>\n",
              "  </tbody>\n",
              "</table>\n",
              "</div>"
            ],
            "text/plain": [
              "   version NewRetention  count  median        mean         std   max\n",
              "0  gate_30  False-False  22840       6   11.819746   21.642643   981\n",
              "1  gate_30   False-True   1825      43   73.169315   93.222330  1072\n",
              "2  gate_30   True-False  13358      33   49.694490   58.125396   918\n",
              "3  gate_30    True-True   6676     127  183.886309  189.626390  2961\n",
              "4  gate_40  False-False  23597       6   11.913294   20.901020   547\n",
              "5  gate_40   False-True   1773      47   75.261139   94.478048  1241\n",
              "6  gate_40   True-False  13613      32   50.025490   60.924587  2640\n",
              "7  gate_40    True-True   6506     133  190.282355  194.220077  2294"
            ]
          },
          "metadata": {
            "tags": []
          },
          "execution_count": 46
        }
      ]
    },
    {
      "cell_type": "code",
      "metadata": {
        "colab": {
          "base_uri": "https://localhost:8080/"
        },
        "id": "r5XqKiwb-1vz",
        "outputId": "b48be691-1820-4062-d82f-e7e21c809b72"
      },
      "source": [
        "# Define A/B groups\n",
        "df[\"version\"] = np.where(df.version == \"gate_30\", \"A\", \"B\")\n",
        "print(df.head())"
      ],
      "execution_count": null,
      "outputs": [
        {
          "output_type": "stream",
          "text": [
            "   userid version  sum_gamerounds  ...  retention_7  Retention  NewRetention\n",
            "0     116       A               3  ...        False          0   False-False\n",
            "1     337       A              38  ...        False          0    True-False\n",
            "2     377       B             165  ...        False          0    True-False\n",
            "3     483       B               1  ...        False          0   False-False\n",
            "4     488       B             179  ...         True          1     True-True\n",
            "\n",
            "[5 rows x 7 columns]\n"
          ],
          "name": "stdout"
        }
      ]
    },
    {
      "cell_type": "code",
      "metadata": {
        "id": "rzid78-kTJRr"
      },
      "source": [
        "def AB_TEST(dataframe,group,target):\n",
        "    # Split A/B\n",
        "    groupA = dataframe[dataframe[group] == \"A\"][target]\n",
        "    groupB = dataframe[dataframe[group] == \"B\"][target]\n",
        "    \n",
        "    # Assumption: Normality\n",
        "    ntA = shapiro(groupA)[1] < 0.05\n",
        "    ntB = shapiro(groupB)[1] < 0.05\n",
        "    \n",
        "    # H0: Distribution is Normal! - False\n",
        "    # H1: Distribution is not Normal! - True\n",
        "    \n",
        "    if (ntA == False) & (ntB == False):# \"H0: Normal Distribution\"\n",
        "        # Parametric Test\n",
        "        # Assumption: Homogeneity of variances\n",
        "        leveneTest = stats.levene(groupA, groupB)[1] < 0.05\n",
        "        # H0: Homogeneity: False\n",
        "        # H1: Heterogeneous: True\n",
        "        \n",
        "        if leveneTest == False:\n",
        "            # Homogeneity\n",
        "            ttest = stats.ttest_ind(groupA, groupB, equal_var=True)[1]\n",
        "            # H0: M1 == M2 - False\n",
        "            # H1: M1 != M2 - True\n",
        "        else:\n",
        "            # Heterogeneous\n",
        "            ttest = stats.ttest_ind(groupA, groupB, equal_var=False)[1]\n",
        "            # H0: M1 == M2 - False\n",
        "            # H1: M1 != M2 - True\n",
        "        \n",
        "    else:\n",
        "        # Non-Parametric Test\n",
        "        ttest = stats.mannwhitneyu(groupA, groupB)[1] \n",
        "        # H0: M1 == M2 - False\n",
        "        # H1: M1 != M2 - True\n",
        "        \n",
        "    # Result\n",
        "    temp = pd.DataFrame({\n",
        "        \"AB Hypothesis\":[ttest < 0.05], \n",
        "        \"p-value\":[ttest]\n",
        "        })\n",
        "    \n",
        "    temp[\"Test Type\"] = np.where((ntA == False) & (ntB == False), \"Parametric\", \"Non-Parametric\")\n",
        "    temp[\"AB Hypothesis\"] = np.where(temp[\"AB Hypothesis\"] == False, \"Fail to Reject H0\", \"Reject H0\")\n",
        "    temp[\"Comment\"] = np.where(temp[\"AB Hypothesis\"] == \"Fail to Reject H0\", \"A/B groups are similar!\", \"A/B groups are not similar!\")\n",
        "        \n",
        "    # Columns\n",
        "    if (ntA == False) & (ntB == False):\n",
        "        temp[\"Homogeneity\"] = np.where(leveneTest == False, \"Yes\", \"No\")\n",
        "        temp = temp[[\"Test Type\", \"Homogeneity\",\"AB Hypothesis\", \"p-value\", \"Comment\"]]\n",
        "    else:\n",
        "        temp = temp[[\"Test Type\",\"AB Hypothesis\", \"p-value\", \"Comment\"]]\n",
        "    \n",
        "    # Print Hypothesis\n",
        "    print(\"# A/B Testing Hypothesis\")\n",
        "    print(\"H0: A == B\")\n",
        "    print(\"H1: A != B\", \"\\n\")\n",
        "    \n",
        "    \n",
        "    return temp  "
      ],
      "execution_count": null,
      "outputs": []
    },
    {
      "cell_type": "code",
      "metadata": {
        "colab": {
          "base_uri": "https://localhost:8080/"
        },
        "id": "z02Y0-cXTJXD",
        "outputId": "d15df7d4-d66f-4cf2-b8c9-1828aaf15fc3"
      },
      "source": [
        "# Apply A/B Testing\n",
        "print(AB_TEST(dataframe=df, group = \"version\", target = \"sum_gamerounds\"))\n",
        "    "
      ],
      "execution_count": null,
      "outputs": [
        {
          "output_type": "stream",
          "text": [
            "# A/B Testing Hypothesis\n",
            "H0: A == B\n",
            "H1: A != B \n",
            "\n",
            "        Test Type AB Hypothesis   p-value                      Comment\n",
            "0  Non-Parametric     Reject H0  0.025446  A/B groups are not similar!\n"
          ],
          "name": "stdout"
        },
        {
          "output_type": "stream",
          "text": [
            "/usr/local/lib/python3.6/dist-packages/scipy/stats/morestats.py:1676: UserWarning: p-value may not be accurate for N > 5000.\n",
            "  warnings.warn(\"p-value may not be accurate for N > 5000.\")\n"
          ],
          "name": "stderr"
        }
      ]
    }
  ]
}